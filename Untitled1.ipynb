{
 "cells": [
  {
   "cell_type": "code",
   "execution_count": 1,
   "id": "92660503",
   "metadata": {},
   "outputs": [
    {
     "name": "stdout",
     "output_type": "stream",
     "text": [
      "7\n",
      "1\n",
      "2\n",
      "3\n",
      "4\n",
      "56\n",
      "0\n",
      "5\n",
      "15\n"
     ]
    }
   ],
   "source": [
    "stack = []\n",
    "pos = 0\n",
    "def push(x):\n",
    "    global pos\n",
    "    stack.append(x)\n",
    "    pos += 1\n",
    "def pop():\n",
    "    global pos\n",
    "    if pos != 0:\n",
    "        pos -= 1\n",
    "        n = stack[pos]\n",
    "        del stack[-1]\n",
    "        return n\n",
    "    else:\n",
    "        return -1\n",
    "def top():\n",
    "    global pos\n",
    "    if pos != 0:\n",
    "        return stack[pos-1]\n",
    "    else:\n",
    "        return -1\n",
    "\n",
    "n = int(input())\n",
    "\n",
    "com = [None for i in range(n)]\n",
    "for i in range(n):\n",
    "    com[i] = int(input())\n",
    "\n",
    "for i in range(n):\n",
    "    if com[i] == 0:\n",
    "        pop()\n",
    "    else:\n",
    "        push(com[i])\n",
    "\n",
    "print(sum(stack))"
   ]
  },
  {
   "cell_type": "code",
   "execution_count": null,
   "id": "17ef9e67",
   "metadata": {},
   "outputs": [],
   "source": []
  }
 ],
 "metadata": {
  "kernelspec": {
   "display_name": "Python 3 (ipykernel)",
   "language": "python",
   "name": "python3"
  },
  "language_info": {
   "codemirror_mode": {
    "name": "ipython",
    "version": 3
   },
   "file_extension": ".py",
   "mimetype": "text/x-python",
   "name": "python",
   "nbconvert_exporter": "python",
   "pygments_lexer": "ipython3",
   "version": "3.11.4"
  }
 },
 "nbformat": 4,
 "nbformat_minor": 5
}
