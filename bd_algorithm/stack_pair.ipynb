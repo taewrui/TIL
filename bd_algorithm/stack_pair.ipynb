{
 "cells": [
  {
   "cell_type": "code",
   "execution_count": 19,
   "id": "61a47103",
   "metadata": {},
   "outputs": [
    {
     "name": "stdout",
     "output_type": "stream",
     "text": [
      "3\n",
      "ABAB\n",
      "ABBA\n",
      "AAAA\n",
      "no\n",
      "yes\n",
      "yes\n"
     ]
    }
   ],
   "source": [
    "from collections import deque\n",
    "\n",
    "\n",
    "def push(x):\n",
    "    queue.append(x)\n",
    "\n",
    "def pop():\n",
    "    #if len(queue) != 0:\n",
    "        return queue.pop()\n",
    "    #else:\n",
    "     #   pass\n",
    "        #print(-1)\n",
    "\n",
    "def front():\n",
    "    if len(queue) != 0:\n",
    "        return queue[0]\n",
    "    else:\n",
    "        pass\n",
    "        #return -1\n",
    "\n",
    "def back():\n",
    "    if len(queue) != 0:\n",
    "        return queue[-1]\n",
    "    else:\n",
    "        pass\n",
    "        #return -1\n",
    "        \n",
    "queue = deque([])\n",
    "sen = []\n",
    "n = int(input())\n",
    "good_words = 0\n",
    "for i in range(n):\n",
    "    sen.append(input())\n",
    "\n",
    "\n",
    "def isPair(i):\n",
    "    for j in i:\n",
    "        if back() == j:\n",
    "            pop()\n",
    "        else:\n",
    "            push(j)\n",
    "            \n",
    "    if len(queue) == 0:\n",
    "        return True\n",
    "    else:\n",
    "        return False\n",
    "        \n",
    "for i in sen:\n",
    "    \n",
    "    if isPair(i):\n",
    "        good_words += 1\n",
    "    \n",
    "    queue.clear()\n",
    "print(good_words)"
   ]
  },
  {
   "cell_type": "code",
   "execution_count": 4,
   "id": "71a13c59",
   "metadata": {},
   "outputs": [
    {
     "data": {
      "text/plain": [
       "')'"
      ]
     },
     "execution_count": 4,
     "metadata": {},
     "output_type": "execute_result"
    }
   ],
   "source": [
    "pair = {'(': ')', '{': '}', '[': ']'}\n",
    "pair['(']"
   ]
  },
  {
   "cell_type": "code",
   "execution_count": null,
   "id": "17d1f052",
   "metadata": {},
   "outputs": [],
   "source": []
  }
 ],
 "metadata": {
  "kernelspec": {
   "display_name": "Python 3 (ipykernel)",
   "language": "python",
   "name": "python3"
  },
  "language_info": {
   "codemirror_mode": {
    "name": "ipython",
    "version": 3
   },
   "file_extension": ".py",
   "mimetype": "text/x-python",
   "name": "python",
   "nbconvert_exporter": "python",
   "pygments_lexer": "ipython3",
   "version": "3.11.4"
  }
 },
 "nbformat": 4,
 "nbformat_minor": 5
}
